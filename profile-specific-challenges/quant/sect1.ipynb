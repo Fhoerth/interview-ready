{
 "cells": [
  {
   "cell_type": "markdown",
   "metadata": {},
   "source": [
    "$$ C = S \\cdot \\Phi_{(d^+)} - K \\cdot e^{-r \\tau} \\Phi_{(d^-)} $$\n",
    "$$ P = - S \\cdot \\Phi_{(-d^+)} + K \\cdot e^{-r \\tau} \\Phi_{(-d^-)} $$"
   ]
  },
  {
   "cell_type": "markdown",
   "metadata": {},
   "source": [
    "$$ d\\pm = \\frac{ \\ln{\\frac{S}{K}} + (r \\pm \\frac{\\sigma^2}{2}) \\tau  }{\\sigma \\sqrt{\\tau}} $$"
   ]
  },
  {
   "cell_type": "markdown",
   "metadata": {},
   "source": [
    "$$ \\Gamma_C = \\frac{\\partial^2{C}}{\\partial{S^2}} = \\frac{\\partial{\\Delta_C}}{\\partial{S}}  $$\n",
    "$$ \\Gamma_P = \\frac{\\partial^2{P}}{\\partial{S^2}} = \\frac{\\partial{\\Delta_P}}{\\partial{S}}  $$"
   ]
  },
  {
   "cell_type": "markdown",
   "metadata": {},
   "source": [
    "$$ \\Delta_C = \\frac{\\partial{C}}{\\partial{S}} = \\Phi{(d^+)} $$\n",
    "$$ \\Delta_P = \\frac{\\partial{P}}{\\partial{S}} = -\\Phi{(-d^+)} = \\Phi{(d^+)}-1 $$"
   ]
  },
  {
   "cell_type": "markdown",
   "metadata": {},
   "source": [
    "$$ \\Phi_{x} = \\int_{-\\infty}^{x} \\phi_{(t)} \\cdot dt  $$"
   ]
  },
  {
   "cell_type": "markdown",
   "metadata": {},
   "source": [
    "$$ 1 - \\Phi_{(x)} = \\Phi_{(-x)}  \\implies  \\Phi_{(x)} -1 = -\\Phi_{(-x)}   $$"
   ]
  },
  {
   "cell_type": "markdown",
   "metadata": {},
   "source": [
    "$$ \\Gamma = \\frac{\\phi_{(d^+)}}{S \\cdot \\sigma \\sqrt{\\tau}} $$"
   ]
  },
  {
   "cell_type": "markdown",
   "metadata": {},
   "source": []
  }
 ],
 "metadata": {
  "language_info": {
   "name": "python"
  }
 },
 "nbformat": 4,
 "nbformat_minor": 2
}
